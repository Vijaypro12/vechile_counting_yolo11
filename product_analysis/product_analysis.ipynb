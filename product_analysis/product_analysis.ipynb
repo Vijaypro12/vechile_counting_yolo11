{
 "cells": [
  {
   "cell_type": "code",
   "execution_count": 81,
   "id": "f8fe2b22",
   "metadata": {},
   "outputs": [
    {
     "data": {
      "text/html": [
       "<div>\n",
       "<style scoped>\n",
       "    .dataframe tbody tr th:only-of-type {\n",
       "        vertical-align: middle;\n",
       "    }\n",
       "\n",
       "    .dataframe tbody tr th {\n",
       "        vertical-align: top;\n",
       "    }\n",
       "\n",
       "    .dataframe thead th {\n",
       "        text-align: right;\n",
       "    }\n",
       "</style>\n",
       "<table border=\"1\" class=\"dataframe\">\n",
       "  <thead>\n",
       "    <tr style=\"text-align: right;\">\n",
       "      <th></th>\n",
       "      <th>Order_ID</th>\n",
       "      <th>Order_Date</th>\n",
       "      <th>Customer_ID</th>\n",
       "      <th>Product_Category</th>\n",
       "      <th>Product_Name</th>\n",
       "      <th>Quantity</th>\n",
       "      <th>Price_per_Unit</th>\n",
       "      <th>Discount</th>\n",
       "      <th>City</th>\n",
       "      <th>Payment_Method</th>\n",
       "    </tr>\n",
       "  </thead>\n",
       "  <tbody>\n",
       "    <tr>\n",
       "      <th>0</th>\n",
       "      <td>101</td>\n",
       "      <td>01-07-2025</td>\n",
       "      <td>1001</td>\n",
       "      <td>Electronics</td>\n",
       "      <td>Smartphone</td>\n",
       "      <td>1</td>\n",
       "      <td>15000</td>\n",
       "      <td>0.10</td>\n",
       "      <td>Chennai</td>\n",
       "      <td>UPI</td>\n",
       "    </tr>\n",
       "    <tr>\n",
       "      <th>1</th>\n",
       "      <td>102</td>\n",
       "      <td>02-07-2025</td>\n",
       "      <td>1002</td>\n",
       "      <td>Clothing</td>\n",
       "      <td>T-Shirt</td>\n",
       "      <td>2</td>\n",
       "      <td>500</td>\n",
       "      <td>0.05</td>\n",
       "      <td>Mumbai</td>\n",
       "      <td>Credit Card</td>\n",
       "    </tr>\n",
       "    <tr>\n",
       "      <th>2</th>\n",
       "      <td>103</td>\n",
       "      <td>03-07-2025</td>\n",
       "      <td>1003</td>\n",
       "      <td>Groceries</td>\n",
       "      <td>Rice Bag</td>\n",
       "      <td>5</td>\n",
       "      <td>600</td>\n",
       "      <td>0.00</td>\n",
       "      <td>Delhi</td>\n",
       "      <td>Cash</td>\n",
       "    </tr>\n",
       "    <tr>\n",
       "      <th>3</th>\n",
       "      <td>104</td>\n",
       "      <td>03-07-2025</td>\n",
       "      <td>1001</td>\n",
       "      <td>Electronics</td>\n",
       "      <td>Bluetooth Speaker</td>\n",
       "      <td>1</td>\n",
       "      <td>2500</td>\n",
       "      <td>0.15</td>\n",
       "      <td>Chennai</td>\n",
       "      <td>UPI</td>\n",
       "    </tr>\n",
       "    <tr>\n",
       "      <th>4</th>\n",
       "      <td>105</td>\n",
       "      <td>04-07-2025</td>\n",
       "      <td>1004</td>\n",
       "      <td>Books</td>\n",
       "      <td>Novel</td>\n",
       "      <td>3</td>\n",
       "      <td>300</td>\n",
       "      <td>0.10</td>\n",
       "      <td>Bangalore</td>\n",
       "      <td>Net Banking</td>\n",
       "    </tr>\n",
       "    <tr>\n",
       "      <th>5</th>\n",
       "      <td>106</td>\n",
       "      <td>04-07-2025</td>\n",
       "      <td>1005</td>\n",
       "      <td>Electronics</td>\n",
       "      <td>Laptop</td>\n",
       "      <td>1</td>\n",
       "      <td>40000</td>\n",
       "      <td>0.20</td>\n",
       "      <td>Salem</td>\n",
       "      <td>Cash</td>\n",
       "    </tr>\n",
       "    <tr>\n",
       "      <th>6</th>\n",
       "      <td>107</td>\n",
       "      <td>05-07-2025</td>\n",
       "      <td>1006</td>\n",
       "      <td>Groceries</td>\n",
       "      <td>Sugar</td>\n",
       "      <td>1</td>\n",
       "      <td>100</td>\n",
       "      <td>0.00</td>\n",
       "      <td>Noida</td>\n",
       "      <td>UPI</td>\n",
       "    </tr>\n",
       "  </tbody>\n",
       "</table>\n",
       "</div>"
      ],
      "text/plain": [
       "   Order_ID  Order_Date  Customer_ID Product_Category       Product_Name  \\\n",
       "0       101  01-07-2025         1001      Electronics         Smartphone   \n",
       "1       102  02-07-2025         1002         Clothing            T-Shirt   \n",
       "2       103  03-07-2025         1003        Groceries           Rice Bag   \n",
       "3       104  03-07-2025         1001      Electronics  Bluetooth Speaker   \n",
       "4       105  04-07-2025         1004            Books              Novel   \n",
       "5       106  04-07-2025         1005      Electronics             Laptop   \n",
       "6       107  05-07-2025         1006        Groceries              Sugar   \n",
       "\n",
       "   Quantity  Price_per_Unit  Discount       City Payment_Method  \n",
       "0         1           15000      0.10    Chennai            UPI  \n",
       "1         2             500      0.05     Mumbai    Credit Card  \n",
       "2         5             600      0.00      Delhi           Cash  \n",
       "3         1            2500      0.15    Chennai            UPI  \n",
       "4         3             300      0.10  Bangalore    Net Banking  \n",
       "5         1           40000      0.20      Salem           Cash  \n",
       "6         1             100      0.00      Noida            UPI  "
      ]
     },
     "execution_count": 81,
     "metadata": {},
     "output_type": "execute_result"
    }
   ],
   "source": [
    "import pandas as pd\n",
    "\n",
    "df=pd.read_csv(\"ecommerce_sample_data.csv\")\n",
    "\n",
    "df.head(7)"
   ]
  },
  {
   "cell_type": "code",
   "execution_count": 82,
   "id": "aecb1688",
   "metadata": {},
   "outputs": [
    {
     "name": "stdout",
     "output_type": "stream",
     "text": [
      "<class 'pandas.core.frame.DataFrame'>\n",
      "RangeIndex: 7 entries, 0 to 6\n",
      "Data columns (total 10 columns):\n",
      " #   Column            Non-Null Count  Dtype  \n",
      "---  ------            --------------  -----  \n",
      " 0   Order_ID          7 non-null      int64  \n",
      " 1   Order_Date        7 non-null      object \n",
      " 2   Customer_ID       7 non-null      int64  \n",
      " 3   Product_Category  7 non-null      object \n",
      " 4   Product_Name      7 non-null      object \n",
      " 5   Quantity          7 non-null      int64  \n",
      " 6   Price_per_Unit    7 non-null      int64  \n",
      " 7   Discount          7 non-null      float64\n",
      " 8   City              7 non-null      object \n",
      " 9   Payment_Method    7 non-null      object \n",
      "dtypes: float64(1), int64(4), object(5)\n",
      "memory usage: 692.0+ bytes\n"
     ]
    }
   ],
   "source": [
    "df.info()"
   ]
  },
  {
   "cell_type": "code",
   "execution_count": 83,
   "id": "fb11125f",
   "metadata": {},
   "outputs": [
    {
     "data": {
      "text/html": [
       "<div>\n",
       "<style scoped>\n",
       "    .dataframe tbody tr th:only-of-type {\n",
       "        vertical-align: middle;\n",
       "    }\n",
       "\n",
       "    .dataframe tbody tr th {\n",
       "        vertical-align: top;\n",
       "    }\n",
       "\n",
       "    .dataframe thead th {\n",
       "        text-align: right;\n",
       "    }\n",
       "</style>\n",
       "<table border=\"1\" class=\"dataframe\">\n",
       "  <thead>\n",
       "    <tr style=\"text-align: right;\">\n",
       "      <th></th>\n",
       "      <th>Order_ID</th>\n",
       "      <th>Customer_ID</th>\n",
       "      <th>Quantity</th>\n",
       "      <th>Price_per_Unit</th>\n",
       "      <th>Discount</th>\n",
       "    </tr>\n",
       "  </thead>\n",
       "  <tbody>\n",
       "    <tr>\n",
       "      <th>count</th>\n",
       "      <td>7.000000</td>\n",
       "      <td>7.000000</td>\n",
       "      <td>7.000000</td>\n",
       "      <td>7.000000</td>\n",
       "      <td>7.000000</td>\n",
       "    </tr>\n",
       "    <tr>\n",
       "      <th>mean</th>\n",
       "      <td>104.000000</td>\n",
       "      <td>1003.142857</td>\n",
       "      <td>2.000000</td>\n",
       "      <td>8428.571429</td>\n",
       "      <td>0.085714</td>\n",
       "    </tr>\n",
       "    <tr>\n",
       "      <th>std</th>\n",
       "      <td>2.160247</td>\n",
       "      <td>1.951800</td>\n",
       "      <td>1.527525</td>\n",
       "      <td>14914.614118</td>\n",
       "      <td>0.074801</td>\n",
       "    </tr>\n",
       "    <tr>\n",
       "      <th>min</th>\n",
       "      <td>101.000000</td>\n",
       "      <td>1001.000000</td>\n",
       "      <td>1.000000</td>\n",
       "      <td>100.000000</td>\n",
       "      <td>0.000000</td>\n",
       "    </tr>\n",
       "    <tr>\n",
       "      <th>25%</th>\n",
       "      <td>102.500000</td>\n",
       "      <td>1001.500000</td>\n",
       "      <td>1.000000</td>\n",
       "      <td>400.000000</td>\n",
       "      <td>0.025000</td>\n",
       "    </tr>\n",
       "    <tr>\n",
       "      <th>50%</th>\n",
       "      <td>104.000000</td>\n",
       "      <td>1003.000000</td>\n",
       "      <td>1.000000</td>\n",
       "      <td>600.000000</td>\n",
       "      <td>0.100000</td>\n",
       "    </tr>\n",
       "    <tr>\n",
       "      <th>75%</th>\n",
       "      <td>105.500000</td>\n",
       "      <td>1004.500000</td>\n",
       "      <td>2.500000</td>\n",
       "      <td>8750.000000</td>\n",
       "      <td>0.125000</td>\n",
       "    </tr>\n",
       "    <tr>\n",
       "      <th>max</th>\n",
       "      <td>107.000000</td>\n",
       "      <td>1006.000000</td>\n",
       "      <td>5.000000</td>\n",
       "      <td>40000.000000</td>\n",
       "      <td>0.200000</td>\n",
       "    </tr>\n",
       "  </tbody>\n",
       "</table>\n",
       "</div>"
      ],
      "text/plain": [
       "         Order_ID  Customer_ID  Quantity  Price_per_Unit  Discount\n",
       "count    7.000000     7.000000  7.000000        7.000000  7.000000\n",
       "mean   104.000000  1003.142857  2.000000     8428.571429  0.085714\n",
       "std      2.160247     1.951800  1.527525    14914.614118  0.074801\n",
       "min    101.000000  1001.000000  1.000000      100.000000  0.000000\n",
       "25%    102.500000  1001.500000  1.000000      400.000000  0.025000\n",
       "50%    104.000000  1003.000000  1.000000      600.000000  0.100000\n",
       "75%    105.500000  1004.500000  2.500000     8750.000000  0.125000\n",
       "max    107.000000  1006.000000  5.000000    40000.000000  0.200000"
      ]
     },
     "execution_count": 83,
     "metadata": {},
     "output_type": "execute_result"
    }
   ],
   "source": [
    "df.describe()"
   ]
  },
  {
   "cell_type": "code",
   "execution_count": 84,
   "id": "3ccf807b",
   "metadata": {},
   "outputs": [
    {
     "data": {
      "text/plain": [
       "Order_ID            0\n",
       "Order_Date          0\n",
       "Customer_ID         0\n",
       "Product_Category    0\n",
       "Product_Name        0\n",
       "Quantity            0\n",
       "Price_per_Unit      0\n",
       "Discount            0\n",
       "City                0\n",
       "Payment_Method      0\n",
       "dtype: int64"
      ]
     },
     "execution_count": 84,
     "metadata": {},
     "output_type": "execute_result"
    }
   ],
   "source": [
    "df.isnull().sum()"
   ]
  },
  {
   "cell_type": "code",
   "execution_count": 85,
   "id": "08575ddd",
   "metadata": {},
   "outputs": [],
   "source": [
    "df_1=df.copy()"
   ]
  },
  {
   "cell_type": "code",
   "execution_count": 86,
   "id": "23892074",
   "metadata": {},
   "outputs": [
    {
     "data": {
      "text/html": [
       "<div>\n",
       "<style scoped>\n",
       "    .dataframe tbody tr th:only-of-type {\n",
       "        vertical-align: middle;\n",
       "    }\n",
       "\n",
       "    .dataframe tbody tr th {\n",
       "        vertical-align: top;\n",
       "    }\n",
       "\n",
       "    .dataframe thead th {\n",
       "        text-align: right;\n",
       "    }\n",
       "</style>\n",
       "<table border=\"1\" class=\"dataframe\">\n",
       "  <thead>\n",
       "    <tr style=\"text-align: right;\">\n",
       "      <th></th>\n",
       "      <th>Order_ID</th>\n",
       "      <th>Order_Date</th>\n",
       "      <th>Customer_ID</th>\n",
       "      <th>Product_Category</th>\n",
       "      <th>Product_Name</th>\n",
       "      <th>Quantity</th>\n",
       "      <th>Price_per_Unit</th>\n",
       "      <th>Discount</th>\n",
       "      <th>City</th>\n",
       "      <th>Payment_Method</th>\n",
       "      <th>Total_value</th>\n",
       "    </tr>\n",
       "  </thead>\n",
       "  <tbody>\n",
       "    <tr>\n",
       "      <th>0</th>\n",
       "      <td>101</td>\n",
       "      <td>01-07-2025</td>\n",
       "      <td>1001</td>\n",
       "      <td>Electronics</td>\n",
       "      <td>Smartphone</td>\n",
       "      <td>1</td>\n",
       "      <td>15000</td>\n",
       "      <td>0.10</td>\n",
       "      <td>Chennai</td>\n",
       "      <td>UPI</td>\n",
       "      <td>14985.00</td>\n",
       "    </tr>\n",
       "    <tr>\n",
       "      <th>1</th>\n",
       "      <td>102</td>\n",
       "      <td>02-07-2025</td>\n",
       "      <td>1002</td>\n",
       "      <td>Clothing</td>\n",
       "      <td>T-Shirt</td>\n",
       "      <td>2</td>\n",
       "      <td>500</td>\n",
       "      <td>0.05</td>\n",
       "      <td>Mumbai</td>\n",
       "      <td>Credit Card</td>\n",
       "      <td>999.50</td>\n",
       "    </tr>\n",
       "    <tr>\n",
       "      <th>2</th>\n",
       "      <td>103</td>\n",
       "      <td>03-07-2025</td>\n",
       "      <td>1003</td>\n",
       "      <td>Groceries</td>\n",
       "      <td>Rice Bag</td>\n",
       "      <td>5</td>\n",
       "      <td>600</td>\n",
       "      <td>0.00</td>\n",
       "      <td>Delhi</td>\n",
       "      <td>Cash</td>\n",
       "      <td>3000.00</td>\n",
       "    </tr>\n",
       "    <tr>\n",
       "      <th>3</th>\n",
       "      <td>104</td>\n",
       "      <td>03-07-2025</td>\n",
       "      <td>1001</td>\n",
       "      <td>Electronics</td>\n",
       "      <td>Bluetooth Speaker</td>\n",
       "      <td>1</td>\n",
       "      <td>2500</td>\n",
       "      <td>0.15</td>\n",
       "      <td>Chennai</td>\n",
       "      <td>UPI</td>\n",
       "      <td>2496.25</td>\n",
       "    </tr>\n",
       "    <tr>\n",
       "      <th>4</th>\n",
       "      <td>105</td>\n",
       "      <td>04-07-2025</td>\n",
       "      <td>1004</td>\n",
       "      <td>Books</td>\n",
       "      <td>Novel</td>\n",
       "      <td>3</td>\n",
       "      <td>300</td>\n",
       "      <td>0.10</td>\n",
       "      <td>Bangalore</td>\n",
       "      <td>Net Banking</td>\n",
       "      <td>899.10</td>\n",
       "    </tr>\n",
       "    <tr>\n",
       "      <th>5</th>\n",
       "      <td>106</td>\n",
       "      <td>04-07-2025</td>\n",
       "      <td>1005</td>\n",
       "      <td>Electronics</td>\n",
       "      <td>Laptop</td>\n",
       "      <td>1</td>\n",
       "      <td>40000</td>\n",
       "      <td>0.20</td>\n",
       "      <td>Salem</td>\n",
       "      <td>Cash</td>\n",
       "      <td>39920.00</td>\n",
       "    </tr>\n",
       "    <tr>\n",
       "      <th>6</th>\n",
       "      <td>107</td>\n",
       "      <td>05-07-2025</td>\n",
       "      <td>1006</td>\n",
       "      <td>Groceries</td>\n",
       "      <td>Sugar</td>\n",
       "      <td>1</td>\n",
       "      <td>100</td>\n",
       "      <td>0.00</td>\n",
       "      <td>Noida</td>\n",
       "      <td>UPI</td>\n",
       "      <td>100.00</td>\n",
       "    </tr>\n",
       "  </tbody>\n",
       "</table>\n",
       "</div>"
      ],
      "text/plain": [
       "   Order_ID  Order_Date  Customer_ID Product_Category       Product_Name  \\\n",
       "0       101  01-07-2025         1001      Electronics         Smartphone   \n",
       "1       102  02-07-2025         1002         Clothing            T-Shirt   \n",
       "2       103  03-07-2025         1003        Groceries           Rice Bag   \n",
       "3       104  03-07-2025         1001      Electronics  Bluetooth Speaker   \n",
       "4       105  04-07-2025         1004            Books              Novel   \n",
       "5       106  04-07-2025         1005      Electronics             Laptop   \n",
       "6       107  05-07-2025         1006        Groceries              Sugar   \n",
       "\n",
       "   Quantity  Price_per_Unit  Discount       City Payment_Method  Total_value  \n",
       "0         1           15000      0.10    Chennai            UPI     14985.00  \n",
       "1         2             500      0.05     Mumbai    Credit Card       999.50  \n",
       "2         5             600      0.00      Delhi           Cash      3000.00  \n",
       "3         1            2500      0.15    Chennai            UPI      2496.25  \n",
       "4         3             300      0.10  Bangalore    Net Banking       899.10  \n",
       "5         1           40000      0.20      Salem           Cash     39920.00  \n",
       "6         1             100      0.00      Noida            UPI       100.00  "
      ]
     },
     "execution_count": 86,
     "metadata": {},
     "output_type": "execute_result"
    }
   ],
   "source": [
    "df_1[\"Quantity\"].sum()\n",
    "df_1[\"Total_value\"]= df_1[\"Quantity\"]* df_1[\"Price_per_Unit\"]*(1-df_1[\"Discount\"]/100)\n",
    "df_1.head(7)"
   ]
  },
  {
   "cell_type": "code",
   "execution_count": 87,
   "id": "e2c85a21",
   "metadata": {},
   "outputs": [
    {
     "data": {
      "text/plain": [
       "np.float64(62399.85)"
      ]
     },
     "execution_count": 87,
     "metadata": {},
     "output_type": "execute_result"
    }
   ],
   "source": [
    "df_1[\"Total_value\"].sum()\n"
   ]
  },
  {
   "cell_type": "code",
   "execution_count": 88,
   "id": "68e510a0",
   "metadata": {},
   "outputs": [
    {
     "data": {
      "text/plain": [
       "np.int64(14)"
      ]
     },
     "execution_count": 88,
     "metadata": {},
     "output_type": "execute_result"
    }
   ],
   "source": [
    "df_1[\"Quantity\"].sum()"
   ]
  },
  {
   "cell_type": "code",
   "execution_count": 89,
   "id": "daac0594",
   "metadata": {},
   "outputs": [
    {
     "data": {
      "text/plain": [
       "np.float64(8914.264285714286)"
      ]
     },
     "execution_count": 89,
     "metadata": {},
     "output_type": "execute_result"
    }
   ],
   "source": [
    "df_1[\"Total_value\"].mean()\n"
   ]
  },
  {
   "cell_type": "code",
   "execution_count": null,
   "id": "4ceacbfd",
   "metadata": {},
   "outputs": [
    {
     "data": {
      "text/plain": [
       "Order_Date\n",
       "2025-01-07    14985.00\n",
       "2025-02-07      999.50\n",
       "2025-03-07     5496.25\n",
       "2025-04-07    40819.10\n",
       "2025-05-07      100.00\n",
       "Name: Total_value, dtype: float64"
      ]
     },
     "execution_count": 45,
     "metadata": {},
     "output_type": "execute_result"
    }
   ],
   "source": [
    "daily_sales = df_1.groupby('Order_Date')['Total_value'].sum()\n",
    "daily_sales"
   ]
  },
  {
   "cell_type": "code",
   "execution_count": null,
   "id": "4a1f08e2",
   "metadata": {},
   "outputs": [
    {
     "data": {
      "image/png": "[encoded data removed]",
      "text/plain": [
       "<Figure size 640x480 with 1 Axes>"
      ]
     },
     "metadata": {},
     "output_type": "display_data"
    }
   ],
   "source": [
    "import matplotlib.pyplot as plt\n",
    "\n",
    "daily_sales.plot(kind='line', marker='o')\n",
    "plt.title('Daily revenue Trend')\n",
    "plt.xlabel('Order Date')\n",
    "plt.ylabel('Revenue generated')\n",
    "plt.grid(True)\n",
    "plt.tight_layout()\n",
    "plt.show()"
   ]
  },
  {
   "cell_type": "code",
   "execution_count": null,
   "id": "59c640c9",
   "metadata": {},
   "outputs": [],
   "source": [
    "top_products=df_1.groupby('Product_Category')['Total_value'].sum().sort_values(ascending=False)"
   ]
  },
  {
   "cell_type": "code",
   "execution_count": null,
   "id": "e147a2ed",
   "metadata": {},
   "outputs": [
    {
     "data": {
      "text/plain": [
       "Product_Category\n",
       "Books            899.10\n",
       "Clothing         999.50\n",
       "Electronics    57401.25\n",
       "Groceries       3100.00\n",
       "Name: Total_value, dtype: float64"
      ]
     },
     "execution_count": 75,
     "metadata": {},
     "output_type": "execute_result"
    }
   ],
   "source": [
    "top_products_1=top_products.head(5)\n",
    "top_products_1"
   ]
  },
  {
   "cell_type": "code",
   "execution_count": null,
   "id": "9bda3a3c",
   "metadata": {},
   "outputs": [
    {
     "data": {
      "image/png": "[encoded data removed]",
      "text/plain": [
       "<Figure size 640x480 with 1 Axes>"
      ]
     },
     "metadata": {},
     "output_type": "display_data"
    }
   ],
   "source": [
    "top_products_1.plot(kind='bar', color='green')\n",
    "plt.title('Top 5 Product Categories by Revenue')\n",
    "plt.xlabel('Product Category')\n",
    "plt.ylabel('Total Revenue')\n",
    "plt.xticks(rotation=45, ha='right')\n",
    "plt.tight_layout()\n",
    "plt.grid(True)\n",
    "plt.show()"
   ]
  }
 ],
 "metadata": {
  "kernelspec": {
   "display_name": ".venv",
   "language": "python",
   "name": "python3"
  },
  "language_info": {
   "codemirror_mode": {
    "name": "ipython",
    "version": 3
   },
   "file_extension": ".py",
   "mimetype": "text/x-python",
   "name": "python",
   "nbconvert_exporter": "python",
   "pygments_lexer": "ipython3",
   "version": "3.13.5"
  }
 },
 "nbformat": 4,
 "nbformat_minor": 5
}
